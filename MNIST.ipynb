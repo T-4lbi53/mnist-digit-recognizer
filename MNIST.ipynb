{
 "cells": [
  {
   "cell_type": "code",
   "execution_count": null,
   "metadata": {
    "_cell_guid": "b1076dfc-b9ad-4769-8c92-a6c4dae69d19",
    "_uuid": "8f2839f25d086af736a60e9eeb907d3b93b6e0e5",
    "execution": {
     "iopub.execute_input": "2025-07-20T07:34:53.446677Z",
     "iopub.status.busy": "2025-07-20T07:34:53.446485Z",
     "iopub.status.idle": "2025-07-20T07:34:55.095106Z",
     "shell.execute_reply": "2025-07-20T07:34:55.094326Z",
     "shell.execute_reply.started": "2025-07-20T07:34:53.446658Z"
    },
    "trusted": true
   },
   "outputs": [],
   "source": [
    "\n",
    "\n",
    "import numpy as np \n",
    "import pandas as pd \n",
    "from matplotlib import pyplot as plt\n",
    "\n",
    "\n",
    "\n"
   ]
  },
  {
   "cell_type": "code",
   "execution_count": 48,
   "metadata": {
    "execution": {
     "iopub.execute_input": "2025-07-20T08:05:17.297442Z",
     "iopub.status.busy": "2025-07-20T08:05:17.296824Z",
     "iopub.status.idle": "2025-07-20T08:05:19.384254Z",
     "shell.execute_reply": "2025-07-20T08:05:19.383308Z",
     "shell.execute_reply.started": "2025-07-20T08:05:17.297412Z"
    },
    "trusted": true
   },
   "outputs": [],
   "source": [
    "data = pd.read_csv('/kaggle/input/digit-recognizer/train.csv')\n"
   ]
  },
  {
   "cell_type": "code",
   "execution_count": 6,
   "metadata": {
    "execution": {
     "iopub.execute_input": "2025-07-19T14:54:10.709310Z",
     "iopub.status.busy": "2025-07-19T14:54:10.709009Z",
     "iopub.status.idle": "2025-07-19T14:54:10.738399Z",
     "shell.execute_reply": "2025-07-19T14:54:10.737569Z",
     "shell.execute_reply.started": "2025-07-19T14:54:10.709287Z"
    },
    "trusted": true
   },
   "outputs": [
    {
     "data": {
      "text/html": [
       "<div>\n",
       "<style scoped>\n",
       "    .dataframe tbody tr th:only-of-type {\n",
       "        vertical-align: middle;\n",
       "    }\n",
       "\n",
       "    .dataframe tbody tr th {\n",
       "        vertical-align: top;\n",
       "    }\n",
       "\n",
       "    .dataframe thead th {\n",
       "        text-align: right;\n",
       "    }\n",
       "</style>\n",
       "<table border=\"1\" class=\"dataframe\">\n",
       "  <thead>\n",
       "    <tr style=\"text-align: right;\">\n",
       "      <th></th>\n",
       "      <th>label</th>\n",
       "      <th>pixel0</th>\n",
       "      <th>pixel1</th>\n",
       "      <th>pixel2</th>\n",
       "      <th>pixel3</th>\n",
       "      <th>pixel4</th>\n",
       "      <th>pixel5</th>\n",
       "      <th>pixel6</th>\n",
       "      <th>pixel7</th>\n",
       "      <th>pixel8</th>\n",
       "      <th>...</th>\n",
       "      <th>pixel774</th>\n",
       "      <th>pixel775</th>\n",
       "      <th>pixel776</th>\n",
       "      <th>pixel777</th>\n",
       "      <th>pixel778</th>\n",
       "      <th>pixel779</th>\n",
       "      <th>pixel780</th>\n",
       "      <th>pixel781</th>\n",
       "      <th>pixel782</th>\n",
       "      <th>pixel783</th>\n",
       "    </tr>\n",
       "  </thead>\n",
       "  <tbody>\n",
       "    <tr>\n",
       "      <th>0</th>\n",
       "      <td>1</td>\n",
       "      <td>0</td>\n",
       "      <td>0</td>\n",
       "      <td>0</td>\n",
       "      <td>0</td>\n",
       "      <td>0</td>\n",
       "      <td>0</td>\n",
       "      <td>0</td>\n",
       "      <td>0</td>\n",
       "      <td>0</td>\n",
       "      <td>...</td>\n",
       "      <td>0</td>\n",
       "      <td>0</td>\n",
       "      <td>0</td>\n",
       "      <td>0</td>\n",
       "      <td>0</td>\n",
       "      <td>0</td>\n",
       "      <td>0</td>\n",
       "      <td>0</td>\n",
       "      <td>0</td>\n",
       "      <td>0</td>\n",
       "    </tr>\n",
       "    <tr>\n",
       "      <th>1</th>\n",
       "      <td>0</td>\n",
       "      <td>0</td>\n",
       "      <td>0</td>\n",
       "      <td>0</td>\n",
       "      <td>0</td>\n",
       "      <td>0</td>\n",
       "      <td>0</td>\n",
       "      <td>0</td>\n",
       "      <td>0</td>\n",
       "      <td>0</td>\n",
       "      <td>...</td>\n",
       "      <td>0</td>\n",
       "      <td>0</td>\n",
       "      <td>0</td>\n",
       "      <td>0</td>\n",
       "      <td>0</td>\n",
       "      <td>0</td>\n",
       "      <td>0</td>\n",
       "      <td>0</td>\n",
       "      <td>0</td>\n",
       "      <td>0</td>\n",
       "    </tr>\n",
       "    <tr>\n",
       "      <th>2</th>\n",
       "      <td>1</td>\n",
       "      <td>0</td>\n",
       "      <td>0</td>\n",
       "      <td>0</td>\n",
       "      <td>0</td>\n",
       "      <td>0</td>\n",
       "      <td>0</td>\n",
       "      <td>0</td>\n",
       "      <td>0</td>\n",
       "      <td>0</td>\n",
       "      <td>...</td>\n",
       "      <td>0</td>\n",
       "      <td>0</td>\n",
       "      <td>0</td>\n",
       "      <td>0</td>\n",
       "      <td>0</td>\n",
       "      <td>0</td>\n",
       "      <td>0</td>\n",
       "      <td>0</td>\n",
       "      <td>0</td>\n",
       "      <td>0</td>\n",
       "    </tr>\n",
       "    <tr>\n",
       "      <th>3</th>\n",
       "      <td>4</td>\n",
       "      <td>0</td>\n",
       "      <td>0</td>\n",
       "      <td>0</td>\n",
       "      <td>0</td>\n",
       "      <td>0</td>\n",
       "      <td>0</td>\n",
       "      <td>0</td>\n",
       "      <td>0</td>\n",
       "      <td>0</td>\n",
       "      <td>...</td>\n",
       "      <td>0</td>\n",
       "      <td>0</td>\n",
       "      <td>0</td>\n",
       "      <td>0</td>\n",
       "      <td>0</td>\n",
       "      <td>0</td>\n",
       "      <td>0</td>\n",
       "      <td>0</td>\n",
       "      <td>0</td>\n",
       "      <td>0</td>\n",
       "    </tr>\n",
       "    <tr>\n",
       "      <th>4</th>\n",
       "      <td>0</td>\n",
       "      <td>0</td>\n",
       "      <td>0</td>\n",
       "      <td>0</td>\n",
       "      <td>0</td>\n",
       "      <td>0</td>\n",
       "      <td>0</td>\n",
       "      <td>0</td>\n",
       "      <td>0</td>\n",
       "      <td>0</td>\n",
       "      <td>...</td>\n",
       "      <td>0</td>\n",
       "      <td>0</td>\n",
       "      <td>0</td>\n",
       "      <td>0</td>\n",
       "      <td>0</td>\n",
       "      <td>0</td>\n",
       "      <td>0</td>\n",
       "      <td>0</td>\n",
       "      <td>0</td>\n",
       "      <td>0</td>\n",
       "    </tr>\n",
       "  </tbody>\n",
       "</table>\n",
       "<p>5 rows × 785 columns</p>\n",
       "</div>"
      ],
      "text/plain": [
       "   label  pixel0  pixel1  pixel2  pixel3  pixel4  pixel5  pixel6  pixel7  \\\n",
       "0      1       0       0       0       0       0       0       0       0   \n",
       "1      0       0       0       0       0       0       0       0       0   \n",
       "2      1       0       0       0       0       0       0       0       0   \n",
       "3      4       0       0       0       0       0       0       0       0   \n",
       "4      0       0       0       0       0       0       0       0       0   \n",
       "\n",
       "   pixel8  ...  pixel774  pixel775  pixel776  pixel777  pixel778  pixel779  \\\n",
       "0       0  ...         0         0         0         0         0         0   \n",
       "1       0  ...         0         0         0         0         0         0   \n",
       "2       0  ...         0         0         0         0         0         0   \n",
       "3       0  ...         0         0         0         0         0         0   \n",
       "4       0  ...         0         0         0         0         0         0   \n",
       "\n",
       "   pixel780  pixel781  pixel782  pixel783  \n",
       "0         0         0         0         0  \n",
       "1         0         0         0         0  \n",
       "2         0         0         0         0  \n",
       "3         0         0         0         0  \n",
       "4         0         0         0         0  \n",
       "\n",
       "[5 rows x 785 columns]"
      ]
     },
     "execution_count": 6,
     "metadata": {},
     "output_type": "execute_result"
    }
   ],
   "source": [
    "data.head()"
   ]
  },
  {
   "cell_type": "code",
   "execution_count": null,
   "metadata": {
    "trusted": true
   },
   "outputs": [],
   "source": []
  },
  {
   "cell_type": "code",
   "execution_count": 15,
   "metadata": {
    "execution": {
     "iopub.execute_input": "2025-07-20T07:45:12.476703Z",
     "iopub.status.busy": "2025-07-20T07:45:12.476187Z",
     "iopub.status.idle": "2025-07-20T07:45:13.242556Z",
     "shell.execute_reply": "2025-07-20T07:45:13.241862Z",
     "shell.execute_reply.started": "2025-07-20T07:45:12.476676Z"
    },
    "trusted": true
   },
   "outputs": [],
   "source": [
    "data = np.array(data)\n",
    "r, c = data.shape\n",
    "np.random.shuffle(data) # shuffle before splitting into validation and training sets\n",
    "\n",
    "data_validation = data[0:1000].T\n",
    "Y_val = data_validation[0]\n",
    "X_val = data_validation[1:c]\n",
    "X_val = X_val / 255.\n",
    "\n",
    "data_train = data[1000:r].T\n",
    "Y_train = data_train[0]\n",
    "X_train = data_train[1:c]\n",
    "X_train = X_train / 255.\n",
    "_,c_train = X_train.shape"
   ]
  },
  {
   "cell_type": "code",
   "execution_count": 16,
   "metadata": {
    "execution": {
     "iopub.execute_input": "2025-07-20T07:45:17.349890Z",
     "iopub.status.busy": "2025-07-20T07:45:17.349095Z",
     "iopub.status.idle": "2025-07-20T07:45:17.355254Z",
     "shell.execute_reply": "2025-07-20T07:45:17.354490Z",
     "shell.execute_reply.started": "2025-07-20T07:45:17.349854Z"
    },
    "trusted": true
   },
   "outputs": [
    {
     "data": {
      "text/plain": [
       "array([1, 1, 5, ..., 0, 3, 5])"
      ]
     },
     "execution_count": 16,
     "metadata": {},
     "output_type": "execute_result"
    }
   ],
   "source": [
    "test = np.array(test)\n"
   ]
  },
  {
   "cell_type": "code",
   "execution_count": 17,
   "metadata": {
    "execution": {
     "iopub.execute_input": "2025-07-20T07:45:20.393625Z",
     "iopub.status.busy": "2025-07-20T07:45:20.393004Z",
     "iopub.status.idle": "2025-07-20T07:45:20.398559Z",
     "shell.execute_reply": "2025-07-20T07:45:20.397709Z",
     "shell.execute_reply.started": "2025-07-20T07:45:20.393598Z"
    },
    "trusted": true
   },
   "outputs": [],
   "source": [
    "def init_params():\n",
    "    W1 = np.random.rand(10, 784) - 0.5\n",
    "    b1 = np.random.rand(10, 1) - 0.5\n",
    "    W2 = np.random.rand(10, 10) - 0.5\n",
    "    b2 = np.random.rand(10, 1) - 0.5\n",
    "    return W1, b1, W2, b2\n",
    "\n",
    "def ReLU(Z):\n",
    "    return np.maximum(Z, 0)\n",
    "\n",
    "def softmax(Z):\n",
    "    A = np.exp(Z) / sum(np.exp(Z))\n",
    "    return A"
   ]
  },
  {
   "cell_type": "code",
   "execution_count": 18,
   "metadata": {
    "execution": {
     "iopub.execute_input": "2025-07-20T07:45:23.600525Z",
     "iopub.status.busy": "2025-07-20T07:45:23.599960Z",
     "iopub.status.idle": "2025-07-20T07:45:23.604556Z",
     "shell.execute_reply": "2025-07-20T07:45:23.603852Z",
     "shell.execute_reply.started": "2025-07-20T07:45:23.600498Z"
    },
    "trusted": true
   },
   "outputs": [],
   "source": [
    "def forward_prop(W1, b1, W2, b2, X):\n",
    "    Z1 = W1.dot(X) + b1\n",
    "    A1 = ReLU(Z1)\n",
    "    Z2 = W2.dot(A1) + b2\n",
    "    A2 = softmax(Z2)\n",
    "    return Z1, A1, Z2, A2"
   ]
  },
  {
   "cell_type": "code",
   "execution_count": 79,
   "metadata": {
    "execution": {
     "iopub.execute_input": "2025-07-20T09:16:28.306625Z",
     "iopub.status.busy": "2025-07-20T09:16:28.305953Z",
     "iopub.status.idle": "2025-07-20T09:16:28.310890Z",
     "shell.execute_reply": "2025-07-20T09:16:28.310132Z",
     "shell.execute_reply.started": "2025-07-20T09:16:28.306600Z"
    },
    "trusted": true
   },
   "outputs": [],
   "source": [
    "def one_hot(Y):\n",
    "    one_hot_Y = np.zeros((Y.size, Y.max() + 1))\n",
    "    one_hot_Y[np.arange(Y.size), Y] = 1\n",
    "    one_hot_Y = one_hot_Y.T\n",
    "    return one_hot_Y\n",
    "\n",
    "\n",
    "def ReLU_deriv(Z):\n",
    "    return Z > 0\n",
    "\n"
   ]
  },
  {
   "cell_type": "code",
   "execution_count": 33,
   "metadata": {
    "execution": {
     "iopub.execute_input": "2025-07-20T07:52:07.868198Z",
     "iopub.status.busy": "2025-07-20T07:52:07.867853Z",
     "iopub.status.idle": "2025-07-20T07:52:07.874957Z",
     "shell.execute_reply": "2025-07-20T07:52:07.874124Z",
     "shell.execute_reply.started": "2025-07-20T07:52:07.868171Z"
    },
    "trusted": true
   },
   "outputs": [],
   "source": [
    "def backward_prop(Z1, A1, Z2, A2, W1, W2, X, Y):\n",
    "    one_hot_Y = one_hot(Y)\n",
    "    dZ2 = A2 - one_hot_Y\n",
    "    dW2 = 1 / r * dZ2.dot(A1.T)\n",
    "    db2 = 1 / r * np.sum(dZ2)\n",
    "    dZ1 = W2.T.dot(dZ2) * ReLU_deriv(Z1)\n",
    "    dW1 = 1 / r * dZ1.dot(X.T)\n",
    "    db1 = 1 / r * np.sum(dZ1)\n",
    "    return dW1, db1, dW2, db2\n",
    "\n",
    "def update_params(W1, b1, W2, b2, dW1, db1, dW2, db2, alpha):\n",
    "    W1 = W1 - alpha * dW1\n",
    "    b1 = b1 - alpha * db1    \n",
    "    W2 = W2 - alpha * dW2  \n",
    "    b2 = b2 - alpha * db2    \n",
    "    return W1, b1, W2, b2"
   ]
  },
  {
   "cell_type": "code",
   "execution_count": 80,
   "metadata": {
    "execution": {
     "iopub.execute_input": "2025-07-20T09:19:05.076292Z",
     "iopub.status.busy": "2025-07-20T09:19:05.075747Z",
     "iopub.status.idle": "2025-07-20T09:19:05.082329Z",
     "shell.execute_reply": "2025-07-20T09:19:05.081575Z",
     "shell.execute_reply.started": "2025-07-20T09:19:05.076262Z"
    },
    "trusted": true
   },
   "outputs": [],
   "source": [
    "def get_predictions(A2):\n",
    "    return np.argmax(A2, 0)\n",
    "\n",
    "def get_accuracy(predictions, Y):\n",
    "    print(predictions, Y)\n",
    "    return np.sum(predictions == Y) / Y.size\n",
    "\n",
    "def gradient_descent(X, Y, alpha, iterations):\n",
    "    W1, b1, W2, b2 = init_params()\n",
    "    for i in range(iterations):\n",
    "        Z1, A1, Z2, A2 = forward_prop(W1, b1, W2, b2, X)\n",
    "        dW1, db1, dW2, db2 = backward_prop(Z1, A1, Z2, A2, W1, W2, X, Y)\n",
    "        W1, b1, W2, b2 = update_params(W1, b1, W2, b2, dW1, db1, dW2, db2, alpha)\n",
    "\n",
    "\n",
    "        if i % 50 == 0:\n",
    "            print(\"Iteration: \", i)\n",
    "            predictions = get_predictions(A2)\n",
    "            print(get_accuracy(predictions, Y))\n",
    "    return W1, b1, W2, b2"
   ]
  },
  {
   "cell_type": "code",
   "execution_count": 78,
   "metadata": {
    "execution": {
     "iopub.execute_input": "2025-07-20T09:13:56.460887Z",
     "iopub.status.busy": "2025-07-20T09:13:56.460601Z",
     "iopub.status.idle": "2025-07-20T09:14:52.973697Z",
     "shell.execute_reply": "2025-07-20T09:14:52.973006Z",
     "shell.execute_reply.started": "2025-07-20T09:13:56.460865Z"
    },
    "trusted": true
   },
   "outputs": [
    {
     "name": "stdout",
     "output_type": "stream",
     "text": [
      "Iteration:  0\n",
      "[7 7 5 ... 5 3 5] [1 1 5 ... 0 3 5]\n",
      "0.08180487804878049\n",
      "Iteration:  50\n",
      "[0 1 4 ... 6 3 0] [1 1 5 ... 0 3 5]\n",
      "0.4405121951219512\n",
      "Iteration:  100\n",
      "[0 1 0 ... 4 3 0] [1 1 5 ... 0 3 5]\n",
      "0.6091219512195122\n",
      "Iteration:  150\n",
      "[1 1 0 ... 4 3 0] [1 1 5 ... 0 3 5]\n",
      "0.692390243902439\n",
      "Iteration:  200\n",
      "[1 1 8 ... 5 3 0] [1 1 5 ... 0 3 5]\n",
      "0.7336341463414634\n",
      "Iteration:  250\n",
      "[1 1 8 ... 5 3 0] [1 1 5 ... 0 3 5]\n",
      "0.7598292682926829\n",
      "Iteration:  300\n",
      "[1 1 8 ... 5 3 0] [1 1 5 ... 0 3 5]\n",
      "0.7798780487804878\n",
      "Iteration:  350\n",
      "[1 1 8 ... 5 3 0] [1 1 5 ... 0 3 5]\n",
      "0.7980243902439025\n",
      "Iteration:  400\n",
      "[1 1 8 ... 5 3 0] [1 1 5 ... 0 3 5]\n",
      "0.8126341463414634\n",
      "Iteration:  450\n",
      "[1 1 8 ... 5 3 0] [1 1 5 ... 0 3 5]\n",
      "0.8237073170731707\n",
      "Iteration:  500\n",
      "[1 1 8 ... 0 3 0] [1 1 5 ... 0 3 5]\n",
      "0.8329268292682926\n",
      "Iteration:  550\n",
      "[1 1 8 ... 0 3 0] [1 1 5 ... 0 3 5]\n",
      "0.8408780487804878\n",
      "Iteration:  600\n",
      "[1 1 8 ... 0 3 0] [1 1 5 ... 0 3 5]\n",
      "0.8466341463414634\n",
      "Iteration:  650\n",
      "[1 1 8 ... 0 3 0] [1 1 5 ... 0 3 5]\n",
      "0.8517073170731707\n",
      "Iteration:  700\n",
      "[1 1 5 ... 0 3 0] [1 1 5 ... 0 3 5]\n",
      "0.8556829268292683\n",
      "Iteration:  750\n",
      "[1 1 5 ... 0 3 0] [1 1 5 ... 0 3 5]\n",
      "0.8606341463414634\n"
     ]
    }
   ],
   "source": [
    "W1, b1, W2, b2 = gradient_descent(X_train, Y_train, 0.10, 800)"
   ]
  },
  {
   "cell_type": "code",
   "execution_count": 81,
   "metadata": {
    "execution": {
     "iopub.execute_input": "2025-07-20T09:19:09.837230Z",
     "iopub.status.busy": "2025-07-20T09:19:09.836673Z",
     "iopub.status.idle": "2025-07-20T09:19:09.842650Z",
     "shell.execute_reply": "2025-07-20T09:19:09.841920Z",
     "shell.execute_reply.started": "2025-07-20T09:19:09.837190Z"
    },
    "trusted": true
   },
   "outputs": [],
   "source": [
    "def make_predictions(X, W1, b1, W2, b2):\n",
    "    _, _, _, A2 = forward_prop(W1, b1, W2, b2, X)\n",
    "    predictions = get_predictions(A2)\n",
    "    return predictions\n",
    "\n",
    "def val_prediction(index, W1, b1, W2, b2):\n",
    "    current_image = X_val[:, index, None]\n",
    "    prediction = make_predictions(X_val[:, index, None], W1, b1, W2, b2)\n",
    "    label = Y_val[index]\n",
    "    print(\"Prediction: \", prediction)\n",
    "    print(\"Label: \", label)\n",
    "    \n",
    "    current_image = current_image.reshape((28, 28)) * 255\n",
    "    plt.gray()\n",
    "    plt.imshow(current_image, interpolation='nearest')\n",
    "    plt.show()"
   ]
  },
  {
   "cell_type": "code",
   "execution_count": 46,
   "metadata": {
    "execution": {
     "iopub.execute_input": "2025-07-20T07:56:25.933979Z",
     "iopub.status.busy": "2025-07-20T07:56:25.933389Z",
     "iopub.status.idle": "2025-07-20T07:56:26.064360Z",
     "shell.execute_reply": "2025-07-20T07:56:26.063650Z",
     "shell.execute_reply.started": "2025-07-20T07:56:25.933952Z"
    },
    "trusted": true
   },
   "outputs": [
    {
     "name": "stdout",
     "output_type": "stream",
     "text": [
      "Prediction:  [1]\n",
      "Label:  1\n"
     ]
    },
    {
     "data": {
      "image/png": "[encoded data removed]",
      "text/plain": [
       "<Figure size 640x480 with 1 Axes>"
      ]
     },
     "metadata": {},
     "output_type": "display_data"
    }
   ],
   "source": [
    "val_prediction(69, W1, b1, W2, b2)"
   ]
  }
 ],
 "metadata": {
  "kaggle": {
   "accelerator": "none",
   "dataSources": [
    {
     "databundleVersionId": 861823,
     "sourceId": 3004,
     "sourceType": "competition"
    }
   ],
   "dockerImageVersionId": 31089,
   "isGpuEnabled": false,
   "isInternetEnabled": true,
   "language": "python",
   "sourceType": "notebook"
  },
  "kernelspec": {
   "display_name": "Python 3",
   "language": "python",
   "name": "python3"
  },
  "language_info": {
   "codemirror_mode": {
    "name": "ipython",
    "version": 3
   },
   "file_extension": ".py",
   "mimetype": "text/x-python",
   "name": "python",
   "nbconvert_exporter": "python",
   "pygments_lexer": "ipython3",
   "version": "3.11.13"
  }
 },
 "nbformat": 4,
 "nbformat_minor": 4
}
